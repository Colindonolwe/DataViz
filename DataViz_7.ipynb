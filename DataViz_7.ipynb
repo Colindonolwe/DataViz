{
 "cells": [
  {
   "cell_type": "code",
   "execution_count": 1,
   "metadata": {},
   "outputs": [],
   "source": [
    "import pandas as pd\n",
    "import numpy as np\n",
    "import matplotlib.pyplot as plt\n",
    "import plotly.graph_objects as go\n",
    "\n",
    "%matplotlib inline"
   ]
  },
  {
   "cell_type": "markdown",
   "metadata": {},
   "source": [
    "### Const"
   ]
  },
  {
   "cell_type": "code",
   "execution_count": 2,
   "metadata": {},
   "outputs": [],
   "source": [
    "# Data conditions from problem\n",
    "min_cat = 15\n",
    "max_cat = 40\n",
    "\n",
    "# FIG constant\n",
    "# Choose colors from https://colorscheme.ru/html-colors.html\n",
    "colorscheme = ['rgb(0,0,0)','rgb(128,128,128)','rgb(139, 69, 19)','rgb(255,0,255)',\n",
    "                'rgb(128, 0, 128)','rgb(255, 0, 0)','rgb(128, 0, 0)','rgb(255, 215, 0)',\n",
    "                'rgb(128, 128, 0)','rgb(0, 255, 0)','rgb(0, 128, 0)','rgb(123, 104, 238)',\n",
    "                'rgb(0, 128, 128)','rgb(0, 0, 255)','rgb(0, 0, 128)','rgb(255, 165, 0)',\n",
    "                'rgb(255, 20, 147)']\n",
    "min_block_size = 300\n",
    "\n",
    "# Init values for squarify\n",
    "x = 0.\n",
    "y = 0.\n",
    "width = 100.\n",
    "height = 100."
   ]
  },
  {
   "cell_type": "markdown",
   "metadata": {},
   "source": [
    "## Data of Superstore Sales"
   ]
  },
  {
   "cell_type": "markdown",
   "metadata": {},
   "source": [
    "Take data from example. Find feature with more than 15 categories"
   ]
  },
  {
   "cell_type": "code",
   "execution_count": 3,
   "metadata": {},
   "outputs": [
    {
     "data": {
      "text/plain": [
       "Index(['Row ID', 'Order ID', 'Order Date', 'Ship Date', 'Ship Mode',\n",
       "       'Customer ID', 'Customer Name', 'Segment', 'Country', 'City', 'State',\n",
       "       'Postal Code', 'Region', 'Product ID', 'Category', 'Sub-Category',\n",
       "       'Product Name', 'Sales', 'Quantity', 'Discount', 'Profit'],\n",
       "      dtype='object')"
      ]
     },
     "execution_count": 3,
     "metadata": {},
     "output_type": "execute_result"
    }
   ],
   "source": [
    "data = pd.read_excel(open('Sample - Superstore.xls', 'rb'),\n",
    "                     sheet_name='Orders'\n",
    "                    )\n",
    "data.columns"
   ]
  },
  {
   "cell_type": "code",
   "execution_count": 4,
   "metadata": {},
   "outputs": [
    {
     "name": "stdout",
     "output_type": "stream",
     "text": [
      "<class 'pandas.core.frame.DataFrame'>\n",
      "RangeIndex: 9994 entries, 0 to 9993\n",
      "Data columns (total 21 columns):\n",
      "Row ID           9994 non-null int64\n",
      "Order ID         9994 non-null object\n",
      "Order Date       9994 non-null datetime64[ns]\n",
      "Ship Date        9994 non-null datetime64[ns]\n",
      "Ship Mode        9994 non-null object\n",
      "Customer ID      9994 non-null object\n",
      "Customer Name    9994 non-null object\n",
      "Segment          9994 non-null object\n",
      "Country          9994 non-null object\n",
      "City             9994 non-null object\n",
      "State            9994 non-null object\n",
      "Postal Code      9994 non-null int64\n",
      "Region           9994 non-null object\n",
      "Product ID       9994 non-null object\n",
      "Category         9994 non-null object\n",
      "Sub-Category     9994 non-null object\n",
      "Product Name     9994 non-null object\n",
      "Sales            9994 non-null float64\n",
      "Quantity         9994 non-null int64\n",
      "Discount         9994 non-null float64\n",
      "Profit           9994 non-null float64\n",
      "dtypes: datetime64[ns](2), float64(3), int64(3), object(13)\n",
      "memory usage: 1.6+ MB\n"
     ]
    }
   ],
   "source": [
    "data.info()"
   ]
  },
  {
   "cell_type": "code",
   "execution_count": 5,
   "metadata": {},
   "outputs": [
    {
     "name": "stdout",
     "output_type": "stream",
     "text": [
      "Sub-Category unique values are:\n",
      " ['Bookcases' 'Chairs' 'Labels' 'Tables' 'Storage' 'Furnishings' 'Art'\n",
      " 'Phones' 'Binders' 'Appliances' 'Paper' 'Accessories' 'Envelopes'\n",
      " 'Fasteners' 'Supplies' 'Machines' 'Copiers']\n"
     ]
    }
   ],
   "source": [
    "for c in data.columns:\n",
    "    c_unique_list = data[c].unique()\n",
    "    if len(c_unique_list) > min_cat and len(c_unique_list) < max_cat:\n",
    "        print(c, 'unique values are:\\n', data[c].unique())"
   ]
  },
  {
   "cell_type": "markdown",
   "metadata": {},
   "source": [
    "Ok! Then need to prepare data for Squarified Treemap Layout"
   ]
  },
  {
   "cell_type": "code",
   "execution_count": 6,
   "metadata": {},
   "outputs": [],
   "source": [
    "sub_cat_cnt = data.groupby(data['Sub-Category']).count()['Category']\n",
    "values_int = sub_cat_cnt.values\n",
    "values_int.sort()\n",
    "values = [v for v in map(float, values_int[::-1])]"
   ]
  },
  {
   "cell_type": "markdown",
   "metadata": {},
   "source": [
    "## Squarified Treemap Layout"
   ]
  },
  {
   "cell_type": "code",
   "execution_count": 25,
   "metadata": {},
   "outputs": [],
   "source": [
    "# Implements algorithm from Bruls, Huizing, van Wijk, \"Squarified Treemaps\" and based on\n",
    "# https://github.com/laserson/squarify and\n",
    "# https://plot.ly/python/treemaps/\n",
    "\n",
    "\n",
    "def layoutrow(sizes, x, y, dx, dy):\n",
    "    covered_area = sum(sizes)\n",
    "    width = covered_area / dy\n",
    "    rects = []\n",
    "    for size in sizes:\n",
    "        rects.append({\"x\": x, \"y\": y, \"dx\": width, \"dy\": size / width})\n",
    "        y += size / width\n",
    "    return rects\n",
    "\n",
    "\n",
    "def layoutcol(sizes, x, y, dx, dy):\n",
    "    covered_area = sum(sizes)\n",
    "    height = covered_area / dx\n",
    "    rects = []\n",
    "    for size in sizes:\n",
    "        rects.append({\"x\": x, \"y\": y, \"dx\": size / height, \"dy\": height})\n",
    "        x += size / height\n",
    "    return rects\n",
    "\n",
    "\n",
    "def layout(sizes, x, y, dx, dy):\n",
    "    if dx >= dy:\n",
    "        return layoutrow(sizes, x, y, dx, dy)\n",
    "    else:\n",
    "        return layoutcol(sizes, x, y, dx, dy)\n",
    "\n",
    "\n",
    "def left_layout(sizes, x, y, dx, dy):\n",
    "    covered_area = sum(sizes)\n",
    "    width = covered_area / dy\n",
    "    height = covered_area / dx\n",
    "    if dx >= dy:\n",
    "        return (x + width, y, dx - width, dy)\n",
    "    else:\n",
    "        return (x, y + height, dx, dy - height)\n",
    "\n",
    "\n",
    "def worst_ratio(sizes, x, y, dx, dy):\n",
    "    return max(\n",
    "        [\n",
    "            max(rect[\"dx\"] / rect[\"dy\"], \n",
    "                rect[\"dy\"] / rect[\"dx\"])\n",
    "            for rect in layout(sizes, x, y, dx, dy)\n",
    "        ]\n",
    "    )\n",
    "\n",
    "\n",
    "def squarify(sizes, x, y, dx, dy):\n",
    "    if len(sizes) == 0:\n",
    "        return []\n",
    "    if len(sizes) == 1:\n",
    "        return layout(sizes, x, y, dx, dy)\n",
    "#   splitting\n",
    "    i = 1\n",
    "    while i < len(sizes):\n",
    "        if worst_ratio(sizes[:i], x, y, dx, dy) >= worst_ratio(sizes[:(i + 1)], x, y, dx, dy):\n",
    "            i += 1\n",
    "        else:\n",
    "            break\n",
    "            \n",
    "    remaining = sizes[i:]\n",
    "    current = sizes[:i]\n",
    "    leftover_x, leftover_y, leftover_dx, leftover_dy = left_layout(current, x, y, dx, dy)\n",
    "    return layout(current, x, y, dx, dy) + squarify(\n",
    "        remaining, leftover_x, leftover_y, leftover_dx, leftover_dy\n",
    "        )\n",
    "\n",
    "\n",
    "def normalize_sizes(sizes, dx, dy):\n",
    "    total_sum = sum(sizes)\n",
    "    total_area = dx * dy\n",
    "    sizes = map(lambda size: \n",
    "                size * total_area / total_sum, \n",
    "                sizes)\n",
    "    return list(sizes)"
   ]
  },
  {
   "cell_type": "code",
   "execution_count": 26,
   "metadata": {},
   "outputs": [
    {
     "data": {
      "application/vnd.plotly.v1+json": {
       "config": {
        "plotlyServerURL": "https://plot.ly"
       },
       "data": [
        {
         "mode": "text",
         "text": [
          "1523",
          "1370",
          "957",
          "889",
          "846",
          "796",
          "775",
          "617",
          "466",
          "364",
          "319",
          "254",
          "228",
          "217",
          "190",
          "115",
          "68"
         ],
         "type": "scatter",
         "x": [
          19.261556934160495,
          19.261556934160495,
          19.261556934160495,
          54.2732440617108,
          85.0116871275503,
          54.09778011937652,
          84.83622318521603,
          50.25311169788554,
          50.25311169788554,
          72.11352543668008,
          91.12197067295504,
          70.52981718032744,
          70.52981718032744,
          84.65440457668706,
          95.11614216008465,
          85.65084080091367,
          96.11257838431126
         ],
         "y": [
          19.77922077922078,
          57.35064935064935,
          87.57142857142857,
          14.119466145833334,
          14.119466145833334,
          41.023763020833336,
          41.023763020833336,
          66.9665335728301,
          90.0622366978301,
          62.796836048789174,
          62.796836048789174,
          79.21930044271849,
          93.32676126892932,
          81.51683522260852,
          81.51683522260852,
          95.62429604881936,
          95.62429604881935
         ]
        }
       ],
       "layout": {
        "annotations": [
         {
          "showarrow": false,
          "text": "1523",
          "x": 19.261556934160495,
          "y": 19.77922077922078
         },
         {
          "showarrow": false,
          "text": "1370",
          "x": 19.261556934160495,
          "y": 57.35064935064935
         },
         {
          "showarrow": false,
          "text": "957",
          "x": 19.261556934160495,
          "y": 87.57142857142857
         },
         {
          "showarrow": false,
          "text": "889",
          "x": 54.2732440617108,
          "y": 14.119466145833334
         },
         {
          "showarrow": false,
          "text": "846",
          "x": 85.0116871275503,
          "y": 14.119466145833334
         },
         {
          "showarrow": false,
          "text": "796",
          "x": 54.09778011937652,
          "y": 41.023763020833336
         },
         {
          "showarrow": false,
          "text": "775",
          "x": 84.83622318521603,
          "y": 41.023763020833336
         },
         {
          "showarrow": false,
          "text": "617",
          "x": 50.25311169788554,
          "y": 66.9665335728301
         },
         {
          "showarrow": false,
          "text": "466",
          "x": 50.25311169788554,
          "y": 90.0622366978301
         },
         {
          "showarrow": false,
          "text": "364",
          "x": 72.11352543668008,
          "y": 62.796836048789174
         },
         {
          "showarrow": false,
          "text": "319",
          "x": 91.12197067295504,
          "y": 62.796836048789174
         },
         {
          "showarrow": false,
          "text": "254",
          "x": 70.52981718032744,
          "y": 79.21930044271849
         },
         {
          "showarrow": false,
          "text": "228",
          "x": 70.52981718032744,
          "y": 93.32676126892932
         },
         {
          "showarrow": false,
          "text": "217",
          "x": 84.65440457668706,
          "y": 81.51683522260852
         },
         {
          "showarrow": false,
          "text": "190",
          "x": 95.11614216008465,
          "y": 81.51683522260852
         },
         {
          "showarrow": false,
          "text": "115",
          "x": 85.65084080091367,
          "y": 95.62429604881936
         },
         {
          "showarrow": false,
          "text": "68",
          "x": 96.11257838431126,
          "y": 95.62429604881935
         }
        ],
        "font": {
         "color": "white",
         "size": 15
        },
        "height": 849.9640032168649,
        "shapes": [
         {
          "fillcolor": "rgb(0,0,0)",
          "line": {
           "color": "rgb(0,0,0)",
           "width": 5
          },
          "type": "rect",
          "x0": 0,
          "x1": 38.52311386832099,
          "y0": 0,
          "y1": 39.55844155844156
         },
         {
          "fillcolor": "rgb(128,128,128)",
          "line": {
           "color": "rgb(128,128,128)",
           "width": 5
          },
          "type": "rect",
          "x0": 0,
          "x1": 38.52311386832099,
          "y0": 39.55844155844156,
          "y1": 75.14285714285714
         },
         {
          "fillcolor": "rgb(139, 69, 19)",
          "line": {
           "color": "rgb(139, 69, 19)",
           "width": 5
          },
          "type": "rect",
          "x0": 0,
          "x1": 38.52311386832099,
          "y0": 75.14285714285714,
          "y1": 100
         },
         {
          "fillcolor": "rgb(255,0,255)",
          "line": {
           "color": "rgb(255,0,255)",
           "width": 5
          },
          "type": "rect",
          "x0": 38.52311386832099,
          "x1": 70.0233742551006,
          "y0": 0,
          "y1": 28.238932291666668
         },
         {
          "fillcolor": "rgb(128, 0, 128)",
          "line": {
           "color": "rgb(128, 0, 128)",
           "width": 5
          },
          "type": "rect",
          "x0": 70.0233742551006,
          "x1": 100,
          "y0": 0,
          "y1": 28.238932291666668
         },
         {
          "fillcolor": "rgb(255, 0, 0)",
          "line": {
           "color": "rgb(255, 0, 0)",
           "width": 5
          },
          "type": "rect",
          "x0": 38.52311386832099,
          "x1": 69.67244637043206,
          "y0": 28.238932291666668,
          "y1": 53.80859375
         },
         {
          "fillcolor": "rgb(128, 0, 0)",
          "line": {
           "color": "rgb(128, 0, 0)",
           "width": 5
          },
          "type": "rect",
          "x0": 69.67244637043206,
          "x1": 100,
          "y0": 28.238932291666668,
          "y1": 53.80859375
         },
         {
          "fillcolor": "rgb(255, 215, 0)",
          "line": {
           "color": "rgb(255, 215, 0)",
           "width": 5
          },
          "type": "rect",
          "x0": 38.52311386832099,
          "x1": 61.98310952745008,
          "y0": 53.80859375,
          "y1": 80.1244733956602
         },
         {
          "fillcolor": "rgb(128, 128, 0)",
          "line": {
           "color": "rgb(128, 128, 0)",
           "width": 5
          },
          "type": "rect",
          "x0": 38.52311386832099,
          "x1": 61.98310952745008,
          "y0": 80.1244733956602,
          "y1": 100
         },
         {
          "fillcolor": "rgb(0, 255, 0)",
          "line": {
           "color": "rgb(0, 255, 0)",
           "width": 5
          },
          "type": "rect",
          "x0": 61.98310952745008,
          "x1": 82.24394134591007,
          "y0": 53.80859375,
          "y1": 71.78507834757835
         },
         {
          "fillcolor": "rgb(0, 128, 0)",
          "line": {
           "color": "rgb(0, 128, 0)",
           "width": 5
          },
          "type": "rect",
          "x0": 82.24394134591007,
          "x1": 100,
          "y0": 53.80859375,
          "y1": 71.78507834757835
         },
         {
          "fillcolor": "rgb(123, 104, 238)",
          "line": {
           "color": "rgb(123, 104, 238)",
           "width": 5
          },
          "type": "rect",
          "x0": 61.98310952745008,
          "x1": 79.0765248332048,
          "y0": 71.78507834757835,
          "y1": 86.65352253785863
         },
         {
          "fillcolor": "rgb(0, 128, 128)",
          "line": {
           "color": "rgb(0, 128, 128)",
           "width": 5
          },
          "type": "rect",
          "x0": 61.98310952745008,
          "x1": 79.0765248332048,
          "y0": 86.65352253785863,
          "y1": 100
         },
         {
          "fillcolor": "rgb(0, 0, 255)",
          "line": {
           "color": "rgb(0, 0, 255)",
           "width": 5
          },
          "type": "rect",
          "x0": 79.0765248332048,
          "x1": 90.23228432016931,
          "y0": 71.78507834757835,
          "y1": 91.2485920976387
         },
         {
          "fillcolor": "rgb(0, 0, 128)",
          "line": {
           "color": "rgb(0, 0, 128)",
           "width": 5
          },
          "type": "rect",
          "x0": 90.23228432016931,
          "x1": 100,
          "y0": 71.78507834757835,
          "y1": 91.2485920976387
         },
         {
          "fillcolor": "rgb(255, 165, 0)",
          "line": {
           "color": "rgb(255, 165, 0)",
           "width": 5
          },
          "type": "rect",
          "x0": 79.0765248332048,
          "x1": 92.22515676862253,
          "y0": 91.2485920976387,
          "y1": 100
         },
         {
          "fillcolor": "rgb(255, 20, 147)",
          "line": {
           "color": "rgb(255, 20, 147)",
           "width": 5
          },
          "type": "rect",
          "x0": 92.22515676862253,
          "x1": 100,
          "y0": 91.2485920976387,
          "y1": 99.99999999999997
         }
        ],
        "template": {
         "data": {
          "bar": [
           {
            "error_x": {
             "color": "#2a3f5f"
            },
            "error_y": {
             "color": "#2a3f5f"
            },
            "marker": {
             "line": {
              "color": "#E5ECF6",
              "width": 0.5
             }
            },
            "type": "bar"
           }
          ],
          "barpolar": [
           {
            "marker": {
             "line": {
              "color": "#E5ECF6",
              "width": 0.5
             }
            },
            "type": "barpolar"
           }
          ],
          "carpet": [
           {
            "aaxis": {
             "endlinecolor": "#2a3f5f",
             "gridcolor": "white",
             "linecolor": "white",
             "minorgridcolor": "white",
             "startlinecolor": "#2a3f5f"
            },
            "baxis": {
             "endlinecolor": "#2a3f5f",
             "gridcolor": "white",
             "linecolor": "white",
             "minorgridcolor": "white",
             "startlinecolor": "#2a3f5f"
            },
            "type": "carpet"
           }
          ],
          "choropleth": [
           {
            "colorbar": {
             "outlinewidth": 0,
             "ticks": ""
            },
            "type": "choropleth"
           }
          ],
          "contour": [
           {
            "colorbar": {
             "outlinewidth": 0,
             "ticks": ""
            },
            "colorscale": [
             [
              0,
              "#0d0887"
             ],
             [
              0.1111111111111111,
              "#46039f"
             ],
             [
              0.2222222222222222,
              "#7201a8"
             ],
             [
              0.3333333333333333,
              "#9c179e"
             ],
             [
              0.4444444444444444,
              "#bd3786"
             ],
             [
              0.5555555555555556,
              "#d8576b"
             ],
             [
              0.6666666666666666,
              "#ed7953"
             ],
             [
              0.7777777777777778,
              "#fb9f3a"
             ],
             [
              0.8888888888888888,
              "#fdca26"
             ],
             [
              1,
              "#f0f921"
             ]
            ],
            "type": "contour"
           }
          ],
          "contourcarpet": [
           {
            "colorbar": {
             "outlinewidth": 0,
             "ticks": ""
            },
            "type": "contourcarpet"
           }
          ],
          "heatmap": [
           {
            "colorbar": {
             "outlinewidth": 0,
             "ticks": ""
            },
            "colorscale": [
             [
              0,
              "#0d0887"
             ],
             [
              0.1111111111111111,
              "#46039f"
             ],
             [
              0.2222222222222222,
              "#7201a8"
             ],
             [
              0.3333333333333333,
              "#9c179e"
             ],
             [
              0.4444444444444444,
              "#bd3786"
             ],
             [
              0.5555555555555556,
              "#d8576b"
             ],
             [
              0.6666666666666666,
              "#ed7953"
             ],
             [
              0.7777777777777778,
              "#fb9f3a"
             ],
             [
              0.8888888888888888,
              "#fdca26"
             ],
             [
              1,
              "#f0f921"
             ]
            ],
            "type": "heatmap"
           }
          ],
          "heatmapgl": [
           {
            "colorbar": {
             "outlinewidth": 0,
             "ticks": ""
            },
            "colorscale": [
             [
              0,
              "#0d0887"
             ],
             [
              0.1111111111111111,
              "#46039f"
             ],
             [
              0.2222222222222222,
              "#7201a8"
             ],
             [
              0.3333333333333333,
              "#9c179e"
             ],
             [
              0.4444444444444444,
              "#bd3786"
             ],
             [
              0.5555555555555556,
              "#d8576b"
             ],
             [
              0.6666666666666666,
              "#ed7953"
             ],
             [
              0.7777777777777778,
              "#fb9f3a"
             ],
             [
              0.8888888888888888,
              "#fdca26"
             ],
             [
              1,
              "#f0f921"
             ]
            ],
            "type": "heatmapgl"
           }
          ],
          "histogram": [
           {
            "marker": {
             "colorbar": {
              "outlinewidth": 0,
              "ticks": ""
             }
            },
            "type": "histogram"
           }
          ],
          "histogram2d": [
           {
            "colorbar": {
             "outlinewidth": 0,
             "ticks": ""
            },
            "colorscale": [
             [
              0,
              "#0d0887"
             ],
             [
              0.1111111111111111,
              "#46039f"
             ],
             [
              0.2222222222222222,
              "#7201a8"
             ],
             [
              0.3333333333333333,
              "#9c179e"
             ],
             [
              0.4444444444444444,
              "#bd3786"
             ],
             [
              0.5555555555555556,
              "#d8576b"
             ],
             [
              0.6666666666666666,
              "#ed7953"
             ],
             [
              0.7777777777777778,
              "#fb9f3a"
             ],
             [
              0.8888888888888888,
              "#fdca26"
             ],
             [
              1,
              "#f0f921"
             ]
            ],
            "type": "histogram2d"
           }
          ],
          "histogram2dcontour": [
           {
            "colorbar": {
             "outlinewidth": 0,
             "ticks": ""
            },
            "colorscale": [
             [
              0,
              "#0d0887"
             ],
             [
              0.1111111111111111,
              "#46039f"
             ],
             [
              0.2222222222222222,
              "#7201a8"
             ],
             [
              0.3333333333333333,
              "#9c179e"
             ],
             [
              0.4444444444444444,
              "#bd3786"
             ],
             [
              0.5555555555555556,
              "#d8576b"
             ],
             [
              0.6666666666666666,
              "#ed7953"
             ],
             [
              0.7777777777777778,
              "#fb9f3a"
             ],
             [
              0.8888888888888888,
              "#fdca26"
             ],
             [
              1,
              "#f0f921"
             ]
            ],
            "type": "histogram2dcontour"
           }
          ],
          "mesh3d": [
           {
            "colorbar": {
             "outlinewidth": 0,
             "ticks": ""
            },
            "type": "mesh3d"
           }
          ],
          "parcoords": [
           {
            "line": {
             "colorbar": {
              "outlinewidth": 0,
              "ticks": ""
             }
            },
            "type": "parcoords"
           }
          ],
          "scatter": [
           {
            "marker": {
             "colorbar": {
              "outlinewidth": 0,
              "ticks": ""
             }
            },
            "type": "scatter"
           }
          ],
          "scatter3d": [
           {
            "line": {
             "colorbar": {
              "outlinewidth": 0,
              "ticks": ""
             }
            },
            "marker": {
             "colorbar": {
              "outlinewidth": 0,
              "ticks": ""
             }
            },
            "type": "scatter3d"
           }
          ],
          "scattercarpet": [
           {
            "marker": {
             "colorbar": {
              "outlinewidth": 0,
              "ticks": ""
             }
            },
            "type": "scattercarpet"
           }
          ],
          "scattergeo": [
           {
            "marker": {
             "colorbar": {
              "outlinewidth": 0,
              "ticks": ""
             }
            },
            "type": "scattergeo"
           }
          ],
          "scattergl": [
           {
            "marker": {
             "colorbar": {
              "outlinewidth": 0,
              "ticks": ""
             }
            },
            "type": "scattergl"
           }
          ],
          "scattermapbox": [
           {
            "marker": {
             "colorbar": {
              "outlinewidth": 0,
              "ticks": ""
             }
            },
            "type": "scattermapbox"
           }
          ],
          "scatterpolar": [
           {
            "marker": {
             "colorbar": {
              "outlinewidth": 0,
              "ticks": ""
             }
            },
            "type": "scatterpolar"
           }
          ],
          "scatterpolargl": [
           {
            "marker": {
             "colorbar": {
              "outlinewidth": 0,
              "ticks": ""
             }
            },
            "type": "scatterpolargl"
           }
          ],
          "scatterternary": [
           {
            "marker": {
             "colorbar": {
              "outlinewidth": 0,
              "ticks": ""
             }
            },
            "type": "scatterternary"
           }
          ],
          "surface": [
           {
            "colorbar": {
             "outlinewidth": 0,
             "ticks": ""
            },
            "colorscale": [
             [
              0,
              "#0d0887"
             ],
             [
              0.1111111111111111,
              "#46039f"
             ],
             [
              0.2222222222222222,
              "#7201a8"
             ],
             [
              0.3333333333333333,
              "#9c179e"
             ],
             [
              0.4444444444444444,
              "#bd3786"
             ],
             [
              0.5555555555555556,
              "#d8576b"
             ],
             [
              0.6666666666666666,
              "#ed7953"
             ],
             [
              0.7777777777777778,
              "#fb9f3a"
             ],
             [
              0.8888888888888888,
              "#fdca26"
             ],
             [
              1,
              "#f0f921"
             ]
            ],
            "type": "surface"
           }
          ],
          "table": [
           {
            "cells": {
             "fill": {
              "color": "#EBF0F8"
             },
             "line": {
              "color": "white"
             }
            },
            "header": {
             "fill": {
              "color": "#C8D4E3"
             },
             "line": {
              "color": "white"
             }
            },
            "type": "table"
           }
          ]
         },
         "layout": {
          "annotationdefaults": {
           "arrowcolor": "#2a3f5f",
           "arrowhead": 0,
           "arrowwidth": 1
          },
          "colorscale": {
           "diverging": [
            [
             0,
             "#8e0152"
            ],
            [
             0.1,
             "#c51b7d"
            ],
            [
             0.2,
             "#de77ae"
            ],
            [
             0.3,
             "#f1b6da"
            ],
            [
             0.4,
             "#fde0ef"
            ],
            [
             0.5,
             "#f7f7f7"
            ],
            [
             0.6,
             "#e6f5d0"
            ],
            [
             0.7,
             "#b8e186"
            ],
            [
             0.8,
             "#7fbc41"
            ],
            [
             0.9,
             "#4d9221"
            ],
            [
             1,
             "#276419"
            ]
           ],
           "sequential": [
            [
             0,
             "#0d0887"
            ],
            [
             0.1111111111111111,
             "#46039f"
            ],
            [
             0.2222222222222222,
             "#7201a8"
            ],
            [
             0.3333333333333333,
             "#9c179e"
            ],
            [
             0.4444444444444444,
             "#bd3786"
            ],
            [
             0.5555555555555556,
             "#d8576b"
            ],
            [
             0.6666666666666666,
             "#ed7953"
            ],
            [
             0.7777777777777778,
             "#fb9f3a"
            ],
            [
             0.8888888888888888,
             "#fdca26"
            ],
            [
             1,
             "#f0f921"
            ]
           ],
           "sequentialminus": [
            [
             0,
             "#0d0887"
            ],
            [
             0.1111111111111111,
             "#46039f"
            ],
            [
             0.2222222222222222,
             "#7201a8"
            ],
            [
             0.3333333333333333,
             "#9c179e"
            ],
            [
             0.4444444444444444,
             "#bd3786"
            ],
            [
             0.5555555555555556,
             "#d8576b"
            ],
            [
             0.6666666666666666,
             "#ed7953"
            ],
            [
             0.7777777777777778,
             "#fb9f3a"
            ],
            [
             0.8888888888888888,
             "#fdca26"
            ],
            [
             1,
             "#f0f921"
            ]
           ]
          },
          "colorway": [
           "#636efa",
           "#EF553B",
           "#00cc96",
           "#ab63fa",
           "#FFA15A",
           "#19d3f3",
           "#FF6692",
           "#B6E880",
           "#FF97FF",
           "#FECB52"
          ],
          "font": {
           "color": "#2a3f5f"
          },
          "geo": {
           "bgcolor": "white",
           "lakecolor": "white",
           "landcolor": "#E5ECF6",
           "showlakes": true,
           "showland": true,
           "subunitcolor": "white"
          },
          "hoverlabel": {
           "align": "left"
          },
          "hovermode": "closest",
          "mapbox": {
           "style": "light"
          },
          "paper_bgcolor": "white",
          "plot_bgcolor": "#E5ECF6",
          "polar": {
           "angularaxis": {
            "gridcolor": "white",
            "linecolor": "white",
            "ticks": ""
           },
           "bgcolor": "#E5ECF6",
           "radialaxis": {
            "gridcolor": "white",
            "linecolor": "white",
            "ticks": ""
           }
          },
          "scene": {
           "xaxis": {
            "backgroundcolor": "#E5ECF6",
            "gridcolor": "white",
            "gridwidth": 2,
            "linecolor": "white",
            "showbackground": true,
            "ticks": "",
            "zerolinecolor": "white"
           },
           "yaxis": {
            "backgroundcolor": "#E5ECF6",
            "gridcolor": "white",
            "gridwidth": 2,
            "linecolor": "white",
            "showbackground": true,
            "ticks": "",
            "zerolinecolor": "white"
           },
           "zaxis": {
            "backgroundcolor": "#E5ECF6",
            "gridcolor": "white",
            "gridwidth": 2,
            "linecolor": "white",
            "showbackground": true,
            "ticks": "",
            "zerolinecolor": "white"
           }
          },
          "shapedefaults": {
           "line": {
            "color": "#2a3f5f"
           }
          },
          "ternary": {
           "aaxis": {
            "gridcolor": "white",
            "linecolor": "white",
            "ticks": ""
           },
           "baxis": {
            "gridcolor": "white",
            "linecolor": "white",
            "ticks": ""
           },
           "bgcolor": "#E5ECF6",
           "caxis": {
            "gridcolor": "white",
            "linecolor": "white",
            "ticks": ""
           }
          },
          "title": {
           "x": 0.05
          },
          "xaxis": {
           "automargin": true,
           "gridcolor": "white",
           "linecolor": "white",
           "ticks": "",
           "zerolinecolor": "white",
           "zerolinewidth": 2
          },
          "yaxis": {
           "automargin": true,
           "gridcolor": "white",
           "linecolor": "white",
           "ticks": "",
           "zerolinecolor": "white",
           "zerolinewidth": 2
          }
         }
        },
        "width": 849.9640032168649,
        "xaxis": {
         "showgrid": false,
         "zeroline": false
        },
        "yaxis": {
         "showgrid": false,
         "zeroline": false
        }
       }
      },
      "text/html": [
       "<div>\n",
       "        \n",
       "        \n",
       "            <div id=\"f19b4511-5683-4757-80c6-8ca15f719637\" class=\"plotly-graph-div\" style=\"height:849.9640032168649px; width:849.9640032168649px;\"></div>\n",
       "            <script type=\"text/javascript\">\n",
       "                require([\"plotly\"], function(Plotly) {\n",
       "                    window.PLOTLYENV=window.PLOTLYENV || {};\n",
       "                    \n",
       "                if (document.getElementById(\"f19b4511-5683-4757-80c6-8ca15f719637\")) {\n",
       "                    Plotly.newPlot(\n",
       "                        'f19b4511-5683-4757-80c6-8ca15f719637',\n",
       "                        [{\"mode\": \"text\", \"text\": [\"1523\", \"1370\", \"957\", \"889\", \"846\", \"796\", \"775\", \"617\", \"466\", \"364\", \"319\", \"254\", \"228\", \"217\", \"190\", \"115\", \"68\"], \"type\": \"scatter\", \"x\": [19.261556934160495, 19.261556934160495, 19.261556934160495, 54.2732440617108, 85.0116871275503, 54.09778011937652, 84.83622318521603, 50.25311169788554, 50.25311169788554, 72.11352543668008, 91.12197067295504, 70.52981718032744, 70.52981718032744, 84.65440457668706, 95.11614216008465, 85.65084080091367, 96.11257838431126], \"y\": [19.77922077922078, 57.35064935064935, 87.57142857142857, 14.119466145833334, 14.119466145833334, 41.023763020833336, 41.023763020833336, 66.9665335728301, 90.0622366978301, 62.796836048789174, 62.796836048789174, 79.21930044271849, 93.32676126892932, 81.51683522260852, 81.51683522260852, 95.62429604881936, 95.62429604881935]}],\n",
       "                        {\"annotations\": [{\"showarrow\": false, \"text\": \"1523\", \"x\": 19.261556934160495, \"y\": 19.77922077922078}, {\"showarrow\": false, \"text\": \"1370\", \"x\": 19.261556934160495, \"y\": 57.35064935064935}, {\"showarrow\": false, \"text\": \"957\", \"x\": 19.261556934160495, \"y\": 87.57142857142857}, {\"showarrow\": false, \"text\": \"889\", \"x\": 54.2732440617108, \"y\": 14.119466145833334}, {\"showarrow\": false, \"text\": \"846\", \"x\": 85.0116871275503, \"y\": 14.119466145833334}, {\"showarrow\": false, \"text\": \"796\", \"x\": 54.09778011937652, \"y\": 41.023763020833336}, {\"showarrow\": false, \"text\": \"775\", \"x\": 84.83622318521603, \"y\": 41.023763020833336}, {\"showarrow\": false, \"text\": \"617\", \"x\": 50.25311169788554, \"y\": 66.9665335728301}, {\"showarrow\": false, \"text\": \"466\", \"x\": 50.25311169788554, \"y\": 90.0622366978301}, {\"showarrow\": false, \"text\": \"364\", \"x\": 72.11352543668008, \"y\": 62.796836048789174}, {\"showarrow\": false, \"text\": \"319\", \"x\": 91.12197067295504, \"y\": 62.796836048789174}, {\"showarrow\": false, \"text\": \"254\", \"x\": 70.52981718032744, \"y\": 79.21930044271849}, {\"showarrow\": false, \"text\": \"228\", \"x\": 70.52981718032744, \"y\": 93.32676126892932}, {\"showarrow\": false, \"text\": \"217\", \"x\": 84.65440457668706, \"y\": 81.51683522260852}, {\"showarrow\": false, \"text\": \"190\", \"x\": 95.11614216008465, \"y\": 81.51683522260852}, {\"showarrow\": false, \"text\": \"115\", \"x\": 85.65084080091367, \"y\": 95.62429604881936}, {\"showarrow\": false, \"text\": \"68\", \"x\": 96.11257838431126, \"y\": 95.62429604881935}], \"font\": {\"color\": \"white\", \"size\": 15}, \"height\": 849.9640032168649, \"shapes\": [{\"fillcolor\": \"rgb(0,0,0)\", \"line\": {\"color\": \"rgb(0,0,0)\", \"width\": 5}, \"type\": \"rect\", \"x0\": 0.0, \"x1\": 38.52311386832099, \"y0\": 0.0, \"y1\": 39.55844155844156}, {\"fillcolor\": \"rgb(128,128,128)\", \"line\": {\"color\": \"rgb(128,128,128)\", \"width\": 5}, \"type\": \"rect\", \"x0\": 0.0, \"x1\": 38.52311386832099, \"y0\": 39.55844155844156, \"y1\": 75.14285714285714}, {\"fillcolor\": \"rgb(139, 69, 19)\", \"line\": {\"color\": \"rgb(139, 69, 19)\", \"width\": 5}, \"type\": \"rect\", \"x0\": 0.0, \"x1\": 38.52311386832099, \"y0\": 75.14285714285714, \"y1\": 100.0}, {\"fillcolor\": \"rgb(255,0,255)\", \"line\": {\"color\": \"rgb(255,0,255)\", \"width\": 5}, \"type\": \"rect\", \"x0\": 38.52311386832099, \"x1\": 70.0233742551006, \"y0\": 0.0, \"y1\": 28.238932291666668}, {\"fillcolor\": \"rgb(128, 0, 128)\", \"line\": {\"color\": \"rgb(128, 0, 128)\", \"width\": 5}, \"type\": \"rect\", \"x0\": 70.0233742551006, \"x1\": 100.0, \"y0\": 0.0, \"y1\": 28.238932291666668}, {\"fillcolor\": \"rgb(255, 0, 0)\", \"line\": {\"color\": \"rgb(255, 0, 0)\", \"width\": 5}, \"type\": \"rect\", \"x0\": 38.52311386832099, \"x1\": 69.67244637043206, \"y0\": 28.238932291666668, \"y1\": 53.80859375}, {\"fillcolor\": \"rgb(128, 0, 0)\", \"line\": {\"color\": \"rgb(128, 0, 0)\", \"width\": 5}, \"type\": \"rect\", \"x0\": 69.67244637043206, \"x1\": 100.0, \"y0\": 28.238932291666668, \"y1\": 53.80859375}, {\"fillcolor\": \"rgb(255, 215, 0)\", \"line\": {\"color\": \"rgb(255, 215, 0)\", \"width\": 5}, \"type\": \"rect\", \"x0\": 38.52311386832099, \"x1\": 61.98310952745008, \"y0\": 53.80859375, \"y1\": 80.1244733956602}, {\"fillcolor\": \"rgb(128, 128, 0)\", \"line\": {\"color\": \"rgb(128, 128, 0)\", \"width\": 5}, \"type\": \"rect\", \"x0\": 38.52311386832099, \"x1\": 61.98310952745008, \"y0\": 80.1244733956602, \"y1\": 100.0}, {\"fillcolor\": \"rgb(0, 255, 0)\", \"line\": {\"color\": \"rgb(0, 255, 0)\", \"width\": 5}, \"type\": \"rect\", \"x0\": 61.98310952745008, \"x1\": 82.24394134591007, \"y0\": 53.80859375, \"y1\": 71.78507834757835}, {\"fillcolor\": \"rgb(0, 128, 0)\", \"line\": {\"color\": \"rgb(0, 128, 0)\", \"width\": 5}, \"type\": \"rect\", \"x0\": 82.24394134591007, \"x1\": 100.0, \"y0\": 53.80859375, \"y1\": 71.78507834757835}, {\"fillcolor\": \"rgb(123, 104, 238)\", \"line\": {\"color\": \"rgb(123, 104, 238)\", \"width\": 5}, \"type\": \"rect\", \"x0\": 61.98310952745008, \"x1\": 79.0765248332048, \"y0\": 71.78507834757835, \"y1\": 86.65352253785863}, {\"fillcolor\": \"rgb(0, 128, 128)\", \"line\": {\"color\": \"rgb(0, 128, 128)\", \"width\": 5}, \"type\": \"rect\", \"x0\": 61.98310952745008, \"x1\": 79.0765248332048, \"y0\": 86.65352253785863, \"y1\": 100.0}, {\"fillcolor\": \"rgb(0, 0, 255)\", \"line\": {\"color\": \"rgb(0, 0, 255)\", \"width\": 5}, \"type\": \"rect\", \"x0\": 79.0765248332048, \"x1\": 90.23228432016931, \"y0\": 71.78507834757835, \"y1\": 91.2485920976387}, {\"fillcolor\": \"rgb(0, 0, 128)\", \"line\": {\"color\": \"rgb(0, 0, 128)\", \"width\": 5}, \"type\": \"rect\", \"x0\": 90.23228432016931, \"x1\": 100.0, \"y0\": 71.78507834757835, \"y1\": 91.2485920976387}, {\"fillcolor\": \"rgb(255, 165, 0)\", \"line\": {\"color\": \"rgb(255, 165, 0)\", \"width\": 5}, \"type\": \"rect\", \"x0\": 79.0765248332048, \"x1\": 92.22515676862253, \"y0\": 91.2485920976387, \"y1\": 100.0}, {\"fillcolor\": \"rgb(255, 20, 147)\", \"line\": {\"color\": \"rgb(255, 20, 147)\", \"width\": 5}, \"type\": \"rect\", \"x0\": 92.22515676862253, \"x1\": 100.0, \"y0\": 91.2485920976387, \"y1\": 99.99999999999997}], \"template\": {\"data\": {\"bar\": [{\"error_x\": {\"color\": \"#2a3f5f\"}, \"error_y\": {\"color\": \"#2a3f5f\"}, \"marker\": {\"line\": {\"color\": \"#E5ECF6\", \"width\": 0.5}}, \"type\": \"bar\"}], \"barpolar\": [{\"marker\": {\"line\": {\"color\": \"#E5ECF6\", \"width\": 0.5}}, \"type\": \"barpolar\"}], \"carpet\": [{\"aaxis\": {\"endlinecolor\": \"#2a3f5f\", \"gridcolor\": \"white\", \"linecolor\": \"white\", \"minorgridcolor\": \"white\", \"startlinecolor\": \"#2a3f5f\"}, \"baxis\": {\"endlinecolor\": \"#2a3f5f\", \"gridcolor\": \"white\", \"linecolor\": \"white\", \"minorgridcolor\": \"white\", \"startlinecolor\": \"#2a3f5f\"}, \"type\": \"carpet\"}], \"choropleth\": [{\"colorbar\": {\"outlinewidth\": 0, \"ticks\": \"\"}, \"type\": \"choropleth\"}], \"contour\": [{\"colorbar\": {\"outlinewidth\": 0, \"ticks\": \"\"}, \"colorscale\": [[0.0, \"#0d0887\"], [0.1111111111111111, \"#46039f\"], [0.2222222222222222, \"#7201a8\"], [0.3333333333333333, \"#9c179e\"], [0.4444444444444444, \"#bd3786\"], [0.5555555555555556, \"#d8576b\"], [0.6666666666666666, \"#ed7953\"], [0.7777777777777778, \"#fb9f3a\"], [0.8888888888888888, \"#fdca26\"], [1.0, \"#f0f921\"]], \"type\": \"contour\"}], \"contourcarpet\": [{\"colorbar\": {\"outlinewidth\": 0, \"ticks\": \"\"}, \"type\": \"contourcarpet\"}], \"heatmap\": [{\"colorbar\": {\"outlinewidth\": 0, \"ticks\": \"\"}, \"colorscale\": [[0.0, \"#0d0887\"], [0.1111111111111111, \"#46039f\"], [0.2222222222222222, \"#7201a8\"], [0.3333333333333333, \"#9c179e\"], [0.4444444444444444, \"#bd3786\"], [0.5555555555555556, \"#d8576b\"], [0.6666666666666666, \"#ed7953\"], [0.7777777777777778, \"#fb9f3a\"], [0.8888888888888888, \"#fdca26\"], [1.0, \"#f0f921\"]], \"type\": \"heatmap\"}], \"heatmapgl\": [{\"colorbar\": {\"outlinewidth\": 0, \"ticks\": \"\"}, \"colorscale\": [[0.0, \"#0d0887\"], [0.1111111111111111, \"#46039f\"], [0.2222222222222222, \"#7201a8\"], [0.3333333333333333, \"#9c179e\"], [0.4444444444444444, \"#bd3786\"], [0.5555555555555556, \"#d8576b\"], [0.6666666666666666, \"#ed7953\"], [0.7777777777777778, \"#fb9f3a\"], [0.8888888888888888, \"#fdca26\"], [1.0, \"#f0f921\"]], \"type\": \"heatmapgl\"}], \"histogram\": [{\"marker\": {\"colorbar\": {\"outlinewidth\": 0, \"ticks\": \"\"}}, \"type\": \"histogram\"}], \"histogram2d\": [{\"colorbar\": {\"outlinewidth\": 0, \"ticks\": \"\"}, \"colorscale\": [[0.0, \"#0d0887\"], [0.1111111111111111, \"#46039f\"], [0.2222222222222222, \"#7201a8\"], [0.3333333333333333, \"#9c179e\"], [0.4444444444444444, \"#bd3786\"], [0.5555555555555556, \"#d8576b\"], [0.6666666666666666, \"#ed7953\"], [0.7777777777777778, \"#fb9f3a\"], [0.8888888888888888, \"#fdca26\"], [1.0, \"#f0f921\"]], \"type\": \"histogram2d\"}], \"histogram2dcontour\": [{\"colorbar\": {\"outlinewidth\": 0, \"ticks\": \"\"}, \"colorscale\": [[0.0, \"#0d0887\"], [0.1111111111111111, \"#46039f\"], [0.2222222222222222, \"#7201a8\"], [0.3333333333333333, \"#9c179e\"], [0.4444444444444444, \"#bd3786\"], [0.5555555555555556, \"#d8576b\"], [0.6666666666666666, \"#ed7953\"], [0.7777777777777778, \"#fb9f3a\"], [0.8888888888888888, \"#fdca26\"], [1.0, \"#f0f921\"]], \"type\": \"histogram2dcontour\"}], \"mesh3d\": [{\"colorbar\": {\"outlinewidth\": 0, \"ticks\": \"\"}, \"type\": \"mesh3d\"}], \"parcoords\": [{\"line\": {\"colorbar\": {\"outlinewidth\": 0, \"ticks\": \"\"}}, \"type\": \"parcoords\"}], \"scatter\": [{\"marker\": {\"colorbar\": {\"outlinewidth\": 0, \"ticks\": \"\"}}, \"type\": \"scatter\"}], \"scatter3d\": [{\"line\": {\"colorbar\": {\"outlinewidth\": 0, \"ticks\": \"\"}}, \"marker\": {\"colorbar\": {\"outlinewidth\": 0, \"ticks\": \"\"}}, \"type\": \"scatter3d\"}], \"scattercarpet\": [{\"marker\": {\"colorbar\": {\"outlinewidth\": 0, \"ticks\": \"\"}}, \"type\": \"scattercarpet\"}], \"scattergeo\": [{\"marker\": {\"colorbar\": {\"outlinewidth\": 0, \"ticks\": \"\"}}, \"type\": \"scattergeo\"}], \"scattergl\": [{\"marker\": {\"colorbar\": {\"outlinewidth\": 0, \"ticks\": \"\"}}, \"type\": \"scattergl\"}], \"scattermapbox\": [{\"marker\": {\"colorbar\": {\"outlinewidth\": 0, \"ticks\": \"\"}}, \"type\": \"scattermapbox\"}], \"scatterpolar\": [{\"marker\": {\"colorbar\": {\"outlinewidth\": 0, \"ticks\": \"\"}}, \"type\": \"scatterpolar\"}], \"scatterpolargl\": [{\"marker\": {\"colorbar\": {\"outlinewidth\": 0, \"ticks\": \"\"}}, \"type\": \"scatterpolargl\"}], \"scatterternary\": [{\"marker\": {\"colorbar\": {\"outlinewidth\": 0, \"ticks\": \"\"}}, \"type\": \"scatterternary\"}], \"surface\": [{\"colorbar\": {\"outlinewidth\": 0, \"ticks\": \"\"}, \"colorscale\": [[0.0, \"#0d0887\"], [0.1111111111111111, \"#46039f\"], [0.2222222222222222, \"#7201a8\"], [0.3333333333333333, \"#9c179e\"], [0.4444444444444444, \"#bd3786\"], [0.5555555555555556, \"#d8576b\"], [0.6666666666666666, \"#ed7953\"], [0.7777777777777778, \"#fb9f3a\"], [0.8888888888888888, \"#fdca26\"], [1.0, \"#f0f921\"]], \"type\": \"surface\"}], \"table\": [{\"cells\": {\"fill\": {\"color\": \"#EBF0F8\"}, \"line\": {\"color\": \"white\"}}, \"header\": {\"fill\": {\"color\": \"#C8D4E3\"}, \"line\": {\"color\": \"white\"}}, \"type\": \"table\"}]}, \"layout\": {\"annotationdefaults\": {\"arrowcolor\": \"#2a3f5f\", \"arrowhead\": 0, \"arrowwidth\": 1}, \"colorscale\": {\"diverging\": [[0, \"#8e0152\"], [0.1, \"#c51b7d\"], [0.2, \"#de77ae\"], [0.3, \"#f1b6da\"], [0.4, \"#fde0ef\"], [0.5, \"#f7f7f7\"], [0.6, \"#e6f5d0\"], [0.7, \"#b8e186\"], [0.8, \"#7fbc41\"], [0.9, \"#4d9221\"], [1, \"#276419\"]], \"sequential\": [[0.0, \"#0d0887\"], [0.1111111111111111, \"#46039f\"], [0.2222222222222222, \"#7201a8\"], [0.3333333333333333, \"#9c179e\"], [0.4444444444444444, \"#bd3786\"], [0.5555555555555556, \"#d8576b\"], [0.6666666666666666, \"#ed7953\"], [0.7777777777777778, \"#fb9f3a\"], [0.8888888888888888, \"#fdca26\"], [1.0, \"#f0f921\"]], \"sequentialminus\": [[0.0, \"#0d0887\"], [0.1111111111111111, \"#46039f\"], [0.2222222222222222, \"#7201a8\"], [0.3333333333333333, \"#9c179e\"], [0.4444444444444444, \"#bd3786\"], [0.5555555555555556, \"#d8576b\"], [0.6666666666666666, \"#ed7953\"], [0.7777777777777778, \"#fb9f3a\"], [0.8888888888888888, \"#fdca26\"], [1.0, \"#f0f921\"]]}, \"colorway\": [\"#636efa\", \"#EF553B\", \"#00cc96\", \"#ab63fa\", \"#FFA15A\", \"#19d3f3\", \"#FF6692\", \"#B6E880\", \"#FF97FF\", \"#FECB52\"], \"font\": {\"color\": \"#2a3f5f\"}, \"geo\": {\"bgcolor\": \"white\", \"lakecolor\": \"white\", \"landcolor\": \"#E5ECF6\", \"showlakes\": true, \"showland\": true, \"subunitcolor\": \"white\"}, \"hoverlabel\": {\"align\": \"left\"}, \"hovermode\": \"closest\", \"mapbox\": {\"style\": \"light\"}, \"paper_bgcolor\": \"white\", \"plot_bgcolor\": \"#E5ECF6\", \"polar\": {\"angularaxis\": {\"gridcolor\": \"white\", \"linecolor\": \"white\", \"ticks\": \"\"}, \"bgcolor\": \"#E5ECF6\", \"radialaxis\": {\"gridcolor\": \"white\", \"linecolor\": \"white\", \"ticks\": \"\"}}, \"scene\": {\"xaxis\": {\"backgroundcolor\": \"#E5ECF6\", \"gridcolor\": \"white\", \"gridwidth\": 2, \"linecolor\": \"white\", \"showbackground\": true, \"ticks\": \"\", \"zerolinecolor\": \"white\"}, \"yaxis\": {\"backgroundcolor\": \"#E5ECF6\", \"gridcolor\": \"white\", \"gridwidth\": 2, \"linecolor\": \"white\", \"showbackground\": true, \"ticks\": \"\", \"zerolinecolor\": \"white\"}, \"zaxis\": {\"backgroundcolor\": \"#E5ECF6\", \"gridcolor\": \"white\", \"gridwidth\": 2, \"linecolor\": \"white\", \"showbackground\": true, \"ticks\": \"\", \"zerolinecolor\": \"white\"}}, \"shapedefaults\": {\"line\": {\"color\": \"#2a3f5f\"}}, \"ternary\": {\"aaxis\": {\"gridcolor\": \"white\", \"linecolor\": \"white\", \"ticks\": \"\"}, \"baxis\": {\"gridcolor\": \"white\", \"linecolor\": \"white\", \"ticks\": \"\"}, \"bgcolor\": \"#E5ECF6\", \"caxis\": {\"gridcolor\": \"white\", \"linecolor\": \"white\", \"ticks\": \"\"}}, \"title\": {\"x\": 0.05}, \"xaxis\": {\"automargin\": true, \"gridcolor\": \"white\", \"linecolor\": \"white\", \"ticks\": \"\", \"zerolinecolor\": \"white\", \"zerolinewidth\": 2}, \"yaxis\": {\"automargin\": true, \"gridcolor\": \"white\", \"linecolor\": \"white\", \"ticks\": \"\", \"zerolinecolor\": \"white\", \"zerolinewidth\": 2}}}, \"width\": 849.9640032168649, \"xaxis\": {\"showgrid\": false, \"zeroline\": false}, \"yaxis\": {\"showgrid\": false, \"zeroline\": false}},\n",
       "                        {\"responsive\": true}\n",
       "                    ).then(function(){\n",
       "                            \n",
       "var gd = document.getElementById('f19b4511-5683-4757-80c6-8ca15f719637');\n",
       "var x = new MutationObserver(function (mutations, observer) {{\n",
       "        var display = window.getComputedStyle(gd).display;\n",
       "        if (!display || display === 'none') {{\n",
       "            console.log([gd, 'removed!']);\n",
       "            Plotly.purge(gd);\n",
       "            observer.disconnect();\n",
       "        }}\n",
       "}});\n",
       "\n",
       "// Listen for the removal of the full notebook cells\n",
       "var notebookContainer = gd.closest('#notebook-container');\n",
       "if (notebookContainer) {{\n",
       "    x.observe(notebookContainer, {childList: true});\n",
       "}}\n",
       "\n",
       "// Listen for the clearing of the current output cell\n",
       "var outputEl = gd.closest('.output');\n",
       "if (outputEl) {{\n",
       "    x.observe(outputEl, {childList: true});\n",
       "}}\n",
       "\n",
       "                        })\n",
       "                };\n",
       "                });\n",
       "            </script>\n",
       "        </div>"
      ]
     },
     "metadata": {},
     "output_type": "display_data"
    }
   ],
   "source": [
    "normed = normalize_sizes(values, width, height)\n",
    "rects = squarify(normed, x, y, width, height)\n",
    "\n",
    "\n",
    "shapes = []\n",
    "annotations = []\n",
    "counter = 0\n",
    "\n",
    "for r, val, color in zip(rects, values, colorscheme):\n",
    "    shapes.append(\n",
    "        dict(\n",
    "            type = 'rect',\n",
    "            x0 = r['x'],\n",
    "            y0 = r['y'],\n",
    "            x1 = r['x']+r['dx'],\n",
    "            y1 = r['y']+r['dy'],\n",
    "            line = dict(\n",
    "                        color=color,\n",
    "                        width = 5\n",
    "                    ),\n",
    "            fillcolor = color\n",
    "        )\n",
    "    )\n",
    "    annotations.append(\n",
    "        dict(\n",
    "            x = r['x']+(r['dx']/2),\n",
    "            y = r['y']+(r['dy']/2),\n",
    "            text = int(val),\n",
    "            showarrow = False\n",
    "        )\n",
    "    )\n",
    "\n",
    "\n",
    "fig = go.Figure()\n",
    "\n",
    "# For hover text\n",
    "fig.add_trace(\n",
    "        go.Scatter(\n",
    "            x = [ r['x']+(r['dx']/2) for r in rects ],\n",
    "            y = [ r['y']+(r['dy']/2) for r in rects ],\n",
    "            text = [str(int(v)) for v in values],\n",
    "            mode = 'text',\n",
    "    )\n",
    ")\n",
    "\n",
    "font = dict(\n",
    "            color=\"white\",\n",
    "            size=15\n",
    ")\n",
    "\n",
    "fig.update_layout(\n",
    "    height=np.log(len(rects))*min_block_size,\n",
    "    width=np.log(len(rects))*min_block_size,\n",
    "    xaxis=dict(showgrid=False,zeroline=False),\n",
    "    yaxis=dict(showgrid=False,zeroline=False),\n",
    "    shapes=shapes,\n",
    "    font=font,\n",
    "    annotations=annotations\n",
    ")\n",
    "\n",
    "fig.show()"
   ]
  },
  {
   "cell_type": "code",
   "execution_count": null,
   "metadata": {},
   "outputs": [],
   "source": []
  }
 ],
 "metadata": {
  "kernelspec": {
   "display_name": "Python 3",
   "language": "python",
   "name": "python3"
  },
  "language_info": {
   "codemirror_mode": {
    "name": "ipython",
    "version": 3
   },
   "file_extension": ".py",
   "mimetype": "text/x-python",
   "name": "python",
   "nbconvert_exporter": "python",
   "pygments_lexer": "ipython3",
   "version": "3.6.3"
  }
 },
 "nbformat": 4,
 "nbformat_minor": 2
}
